{
 "cells": [
  {
   "cell_type": "markdown",
   "id": "44fca20e",
   "metadata": {},
   "source": [
    "# My Jupyter Notebook on IBM Watson Studio"
   ]
  },
  {
   "cell_type": "markdown",
   "id": "c572e96c",
   "metadata": {},
   "source": [
    "## Muhammad Mateen Ali Hashmi\n",
    "\n"
   ]
  },
  {
   "cell_type": "markdown",
   "id": "d0f9be0e",
   "metadata": {},
   "source": [
    "<em> \"I am interested in data science because it is most demanding field, future is also era of Data Science\" </em>\n",
    "\n"
   ]
  },
  {
   "cell_type": "markdown",
   "id": "67ed8e0c",
   "metadata": {},
   "source": [
    "### I am adding 1+1 in Cell 5.\n",
    "\n"
   ]
  },
  {
   "cell_type": "code",
   "execution_count": 3,
   "id": "b91517ac",
   "metadata": {},
   "outputs": [
    {
     "data": {
      "text/plain": [
       "2"
      ]
     },
     "execution_count": 3,
     "metadata": {},
     "output_type": "execute_result"
    }
   ],
   "source": [
    "1+1\n",
    "\n"
   ]
  },
  {
   "cell_type": "markdown",
   "id": "96420907",
   "metadata": {},
   "source": [
    "***  No.1  ***\n",
    "\n",
    "---  No.2  ---\n",
    "\n",
    "_________________  No.3  _________________\n",
    "\n",
    "<ol>\n",
    "  <li>First item</li>\n",
    "  <li>Second item</li>\n",
    "  <li>Third item</li>\n",
    "  <li>Fourth item</li>\n",
    "</ol>\n",
    "\n",
    "\n",
    "\n",
    "<ul>\n",
    "  <li>First item</li>\n",
    "  <li>Second item</li>\n",
    "  <li>Third item</li>\n",
    "  <li>Fourth item</li>\n",
    "</ul>"
   ]
  }
 ],
 "metadata": {
  "kernelspec": {
   "display_name": "Python 3 (ipykernel)",
   "language": "python",
   "name": "python3"
  },
  "language_info": {
   "codemirror_mode": {
    "name": "ipython",
    "version": 3
   },
   "file_extension": ".py",
   "mimetype": "text/x-python",
   "name": "python",
   "nbconvert_exporter": "python",
   "pygments_lexer": "ipython3",
   "version": "3.9.7"
  }
 },
 "nbformat": 4,
 "nbformat_minor": 5
}
